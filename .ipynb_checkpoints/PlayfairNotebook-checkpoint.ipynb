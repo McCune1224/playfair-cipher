{
 "cells": [
  {
   "cell_type": "markdown",
   "metadata": {},
   "source": [
    " ```\n",
    "Alex McCune\n",
    "CSC-314 Fall 2020\n",
    "Playfair Cipher\n",
    "```"
   ]
  },
  {
   "cell_type": "markdown",
   "metadata": {},
   "source": [
    "# <b>The Playfair Cipher</b>:"
   ]
  },
  {
   "cell_type": "markdown",
   "metadata": {},
   "source": [
    "### About the playfair Cipher:\n",
    "\n",
    "The playfair cipher is known as a diagraph substitution cipher. Esentially it is \n",
    "uses a 5x5 grid of letters formed by a key to encrypt a secret message two letters at \n",
    "a time. The encryption key is intially just a basic string that is modified added to a 5x5\n",
    "grid with each letter adding a space. The catch is that any duplicated letters aren't included and then if the key is less than 25 letters in length, it is filled with the remainder of the alphabet.\n",
    "\n",
    "More info can be found on the <a href=\"https://en.wikipedia.org/wiki/Playfair_cipher\" target=\"_blank\">Wiki Article</a>\n",
    "<hr>\n",
    "\n",
    "### Basic Rules:\n",
    "\n",
    "the key is made the encryption grabs two letters at a time of whatever message we are looking at and compares their positions on the key grid and will do 1 of 3 three things to encrypt the text:\n",
    "1. If the letters are on the same column, shift the letters to the right one on the grid\n",
    "2. If the letters on the same row, shift the letters down one on the grid\n",
    "3. Otherwise, swap the column positions of the two letters while maintaining the rows, making it look like if the letters were to make the corner of a box they would be swapping corner sides.\n",
    "\n",
    "<hr>\n",
    "\n",
    "### Visual example of algorithm:\n",
    "##### (stolen from <a href=\"https://privacycanada.net/classical-encryption/playfair-cipher/\" target=\"_blank\">Privacy Canada</a>)\n",
    "<img src=\"https://mk0privacycanadehyf0.kinstacdn.com/wp-content/uploads/2020/01/resulting-digraph.jpg\" alt=\"image failed to load ;(\" title=\"visual\"/>"
   ]
  },
  {
   "cell_type": "markdown",
   "metadata": {},
   "source": [
    "# Encryption Guide and Example:\n",
    "\n",
    "For encryption, you will need a key and plaintext that you would like to encrypt and once that is done you would do the following:\n",
    "\n",
    "1. Call <code>playfair_polish()</code> passing in the <b>plaintext</b> which does the following...\n",
    "    - Takes plaintext input from the user\n",
    "    - Removes whitespaces from text\n",
    "    - If text had letters repeated in sequence, add an \"x\" between it\n",
    "    - Set all text to lowercase\n",
    "    - After cleaning if text lenght is uneven, add an \"x\" at the end\n",
    "1. Call <code>create_playfair_grid()</code> passing in the <b>key</b> which does the following...\n",
    "    - Takes the key input from the user\n",
    "    - Makes a 5x5 empty grid and fills any non-duplicated characters from the key onto the grid\n",
    "    - Adds remainder letters from the alphabet to the end of the grid to fully fill it, making sure to replace the letter \"j\" with \"i\" to ensure the key grid isn't longer than 25 characters in length\n",
    "1. Call <code>encrypt_polished_message()</code> passing in the <b>polished message</b><i>(which should of been created in step 1)</i> and <b>playfair grid</b> <i>(which should of been created in step 2)</i> and does the following...\n",
    "    - Takes the polished text and key grid made in step 1 and 2\n",
    "    - Runs through two letters at a time in the polished text and then will record their locations in respect to the grid as an x and y value for each letter pair and do one of three things:\n",
    " 1. If the y values are the same for the two letters, change the letters to whats on the grid a letter to the right one on the grid\n",
    " 2. If the x values are the same for the two letters, change the letters to be whats on the grid a letter down one on the grid\n",
    " 3. If x or y values aren't the same, swap the y values of the two letters on the grid so that they take the opposite corner of the box the two letters form\n",
    "\n",
    "### Congragulations, you have a newly encrypted playfair cipher text"
   ]
  },
  {
   "cell_type": "code",
   "execution_count": 21,
   "metadata": {},
   "outputs": [
    {
     "name": "stdout",
     "output_type": "stream",
     "text": [
      "Key: playfair example\n",
      "\n",
      "plaintext: Hide the gold in the tree stump\n",
      "\n",
      "encrypted message: bmodzbxdnabekudmuixmmouvif\n"
     ]
    }
   ],
   "source": [
    "from _2020_Fall_AlexMcCune_Playfair import *\n",
    "\n",
    "key = \"playfair example\"\n",
    "plaintext = \"Hide the gold in the tree stump\"\n",
    "\n",
    "polished_messaged = playfair_polish(plaintext)\n",
    "\n",
    "playfair_grid = create_playfair_grid(key)\n",
    "\n",
    "encrypted_message = encrypt_polished_message(polished_messaged, playfair_grid)\n",
    "\n",
    "print(\"Key: {}\\n\\nplaintext: {}\\n\\nencrypted message: {}\".format(key, plaintext, encrypted_message))"
   ]
  },
  {
   "cell_type": "markdown",
   "metadata": {},
   "source": [
    "# Decryption Example:\n",
    "1. Call <code>decrypt_message()</code> passing in the <b>encrypted text and playfair grid</b> which does the following...\n",
    "    - Note that if you only have the key in string form, dont forget to convert the key to a playfair grid by calling the <code>create_playfair_grid()</code> function\n",
    "    - Similar to our <code>encrypt_polished_message()</code> function, this follows the algorith there but in reverse\n",
    "    - After that, it checks to see if the text contains the letter \"x\" that is sandwitched btween two duplicated letters, if so remove that x.\n",
    "    - Finally, it checks if the text length is even and the last letter is an \"x\", if so, remove said x\n",
    "### Congragulations, you have decrypted the playfair cipher text"
   ]
  },
  {
   "cell_type": "code",
   "execution_count": 22,
   "metadata": {},
   "outputs": [
    {
     "name": "stdout",
     "output_type": "stream",
     "text": [
      "hidethegoldinthetreestump\n"
     ]
    }
   ],
   "source": [
    "print(decrypt_message(encrypted_message, playfair_grid))"
   ]
  },
  {
   "cell_type": "markdown",
   "metadata": {},
   "source": [
    "# Common Mistake of this module:"
   ]
  },
  {
   "cell_type": "markdown",
   "metadata": {},
   "source": [
    "### Remember to use the <code>playfair_polish</code> before attempting to encrypt!\n"
   ]
  },
  {
   "cell_type": "code",
   "execution_count": 37,
   "metadata": {},
   "outputs": [
    {
     "name": "stdout",
     "output_type": "stream",
     "text": [
      "correct: bmodzbxdnabekudmuixmmouvif\n",
      "incorrect: iaefqbfkpmehosidusfwfruqnl\n"
     ]
    }
   ],
   "source": [
    "sample_text = \"super sneaky\"\n",
    "sample_key = \"hi\"\n",
    "\n",
    "#Correct:\n",
    "\n",
    "correct_polish = playfair_polish(sample_text)\n",
    "\n",
    "correct_grid = create_playfair_grid(sample_key)\n",
    "\n",
    "correct_encryption = encrypt_polished_message(polished_messaged, playfair_grid)\n",
    "\n",
    "#Incorrect:\n",
    "\n",
    "incorrect_grid = create_playfair_grid(sample_key)\n",
    "\n",
    "incorrect_encryption = encrypt_polished_message(sample_text, incorrect_grid)\n",
    "\n",
    "print(\"correct: \" + correct_encryption)\n",
    "print(\"incorrect: \" + incorrect_encryption)"
   ]
  },
  {
   "cell_type": "code",
   "execution_count": null,
   "metadata": {},
   "outputs": [],
   "source": []
  }
 ],
 "metadata": {
  "kernelspec": {
   "display_name": "Python 3",
   "language": "python",
   "name": "python3"
  },
  "language_info": {
   "codemirror_mode": {
    "name": "ipython",
    "version": 3
   },
   "file_extension": ".py",
   "mimetype": "text/x-python",
   "name": "python",
   "nbconvert_exporter": "python",
   "pygments_lexer": "ipython3",
   "version": "3.8.3"
  }
 },
 "nbformat": 4,
 "nbformat_minor": 4
}
